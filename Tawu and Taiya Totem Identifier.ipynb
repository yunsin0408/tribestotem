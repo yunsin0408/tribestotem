{
  "cells": [
    {
      "cell_type": "code",
      "execution_count": null,
      "metadata": {
        "colab": {
          "base_uri": "https://localhost:8080/"
        },
        "id": "1EKmHKfKaaxK",
        "outputId": "5af48e0b-535c-4729-cb05-83c3ddf8da87"
      },
      "outputs": [
        {
          "name": "stdout",
          "output_type": "stream",
          "text": [
            "Mounted at /content/gdrive\n"
          ]
        }
      ],
      "source": [
        "# Import packages\n",
        "import glob\n",
        "import numpy as np\n",
        "import pandas as pd\n",
        "from PIL import Image\n",
        "import matplotlib.pyplot as plt\n",
        "\n",
        "from pathlib import Path\n",
        "\n",
        "from tensorflow.keras.preprocessing.image import load_img, img_to_array\n",
        "from tensorflow.keras.utils import to_categorical\n",
        "from tensorflow.keras.models import Sequential\n",
        "from tensorflow.keras.layers import Conv2D, MaxPooling2D\n",
        "from tensorflow.keras.layers import Dense, Flatten\n",
        "from tensorflow.keras.optimizers import SGD\n",
        "\n",
        "from google.colab import drive\n",
        "\n",
        "drive.mount('/content/gdrive')"
      ]
    },
    {
      "cell_type": "code",
      "execution_count": null,
      "metadata": {
        "id": "3tgqw1Rp2ov5"
      },
      "outputs": [],
      "source": [
        "filepath_tawu = \"/content/gdrive/MyDrive/雅美族(達悟族) Plan B/*\"\n",
        "filepath_taiya = \"/content/gdrive/MyDrive/泰雅族 (Plan B)/*\"\n",
        "\n",
        "tawu_files = [file for file in glob.iglob(filepath_tawu)]\n",
        "taiya_files = [file for file in glob.iglob(filepath_taiya)]"
      ]
    },
    {
      "cell_type": "code",
      "execution_count": null,
      "metadata": {
        "colab": {
          "base_uri": "https://localhost:8080/"
        },
        "id": "FC-L0rXc3rJY",
        "outputId": "6820e9a7-7868-4ddd-a1e9-35810378a638"
      },
      "outputs": [
        {
          "data": {
            "text/plain": [
              "['/content/gdrive/MyDrive/雅美族(達悟族) Plan B/IMG_8861.JPG',\n",
              " '/content/gdrive/MyDrive/雅美族(達悟族) Plan B/IMG_8862.JPG',\n",
              " '/content/gdrive/MyDrive/雅美族(達悟族) Plan B/IMG_8863.JPG',\n",
              " '/content/gdrive/MyDrive/雅美族(達悟族) Plan B/IMG_8859.JPG',\n",
              " '/content/gdrive/MyDrive/雅美族(達悟族) Plan B/IMG_8860.JPG',\n",
              " '/content/gdrive/MyDrive/雅美族(達悟族) Plan B/IMG_8858.JPG',\n",
              " '/content/gdrive/MyDrive/雅美族(達悟族) Plan B/IMG_8871.JPG',\n",
              " '/content/gdrive/MyDrive/雅美族(達悟族) Plan B/IMG_8872.JPG',\n",
              " '/content/gdrive/MyDrive/雅美族(達悟族) Plan B/IMG_8873.JPG',\n",
              " '/content/gdrive/MyDrive/雅美族(達悟族) Plan B/IMG_9365.JPG',\n",
              " '/content/gdrive/MyDrive/雅美族(達悟族) Plan B/IMG_9367.JPG',\n",
              " '/content/gdrive/MyDrive/雅美族(達悟族) Plan B/IMG_9364.JPG',\n",
              " '/content/gdrive/MyDrive/雅美族(達悟族) Plan B/IMG_9366.JPG',\n",
              " '/content/gdrive/MyDrive/雅美族(達悟族) Plan B/IMG_9368.JPG',\n",
              " '/content/gdrive/MyDrive/雅美族(達悟族) Plan B/IMG_9369.JPG',\n",
              " '/content/gdrive/MyDrive/雅美族(達悟族) Plan B/IMG_9370.JPG',\n",
              " '/content/gdrive/MyDrive/雅美族(達悟族) Plan B/IMG_9377.JPG',\n",
              " '/content/gdrive/MyDrive/雅美族(達悟族) Plan B/images (2).png',\n",
              " '/content/gdrive/MyDrive/雅美族(達悟族) Plan B/螢幕擷取畫面 2024-05-23 151139.png',\n",
              " '/content/gdrive/MyDrive/雅美族(達悟族) Plan B/螢幕擷取畫面 2024-05-23 151202.png',\n",
              " '/content/gdrive/MyDrive/雅美族(達悟族) Plan B/螢幕擷取畫面 2024-05-23 151300.png',\n",
              " '/content/gdrive/MyDrive/雅美族(達悟族) Plan B/螢幕擷取畫面 2024-05-23 151327.png',\n",
              " '/content/gdrive/MyDrive/雅美族(達悟族) Plan B/螢幕擷取畫面 2024-05-23 151340.png',\n",
              " '/content/gdrive/MyDrive/雅美族(達悟族) Plan B/螢幕擷取畫面 2024-05-23 151354.png',\n",
              " '/content/gdrive/MyDrive/雅美族(達悟族) Plan B/螢幕擷取畫面 2024-05-23 151404.png',\n",
              " '/content/gdrive/MyDrive/雅美族(達悟族) Plan B/螢幕擷取畫面 2024-05-23 151417.png',\n",
              " '/content/gdrive/MyDrive/雅美族(達悟族) Plan B/螢幕擷取畫面 2024-05-23 151427.png',\n",
              " '/content/gdrive/MyDrive/雅美族(達悟族) Plan B/螢幕擷取畫面 2024-05-23 151450.png',\n",
              " '/content/gdrive/MyDrive/雅美族(達悟族) Plan B/螢幕擷取畫面 2024-05-23 151507.png',\n",
              " '/content/gdrive/MyDrive/雅美族(達悟族) Plan B/IMG_2257.JPG',\n",
              " '/content/gdrive/MyDrive/雅美族(達悟族) Plan B/IMG_2255.JPG',\n",
              " '/content/gdrive/MyDrive/雅美族(達悟族) Plan B/IMG_2252(1).JPG',\n",
              " '/content/gdrive/MyDrive/雅美族(達悟族) Plan B/IMG_2254.JPG',\n",
              " '/content/gdrive/MyDrive/雅美族(達悟族) Plan B/IMG_2253.JPG',\n",
              " '/content/gdrive/MyDrive/雅美族(達悟族) Plan B/IMG_2252.JPG',\n",
              " '/content/gdrive/MyDrive/雅美族(達悟族) Plan B/IMG_2256.jpg']"
            ]
          },
          "execution_count": 3,
          "metadata": {},
          "output_type": "execute_result"
        }
      ],
      "source": [
        "tawu_files"
      ]
    },
    {
      "cell_type": "code",
      "execution_count": null,
      "metadata": {
        "colab": {
          "base_uri": "https://localhost:8080/"
        },
        "id": "ok5nMf9N3wQm",
        "outputId": "9f021251-5470-46a2-8e95-fc42d235bf65"
      },
      "outputs": [
        {
          "data": {
            "text/plain": [
              "['/content/gdrive/MyDrive/泰雅族 (Plan B)/泰1.jpeg',\n",
              " '/content/gdrive/MyDrive/泰雅族 (Plan B)/泰2.jpeg',\n",
              " '/content/gdrive/MyDrive/泰雅族 (Plan B)/泰3.jpeg',\n",
              " '/content/gdrive/MyDrive/泰雅族 (Plan B)/泰4.png',\n",
              " '/content/gdrive/MyDrive/泰雅族 (Plan B)/泰5.jpeg',\n",
              " '/content/gdrive/MyDrive/泰雅族 (Plan B)/泰6.jpeg',\n",
              " '/content/gdrive/MyDrive/泰雅族 (Plan B)/IMG_8851.JPG',\n",
              " '/content/gdrive/MyDrive/泰雅族 (Plan B)/IMG_8850.JPG',\n",
              " '/content/gdrive/MyDrive/泰雅族 (Plan B)/IMG_8853.JPG',\n",
              " '/content/gdrive/MyDrive/泰雅族 (Plan B)/IMG_8852.JPG',\n",
              " '/content/gdrive/MyDrive/泰雅族 (Plan B)/IMG_8849.JPG',\n",
              " '/content/gdrive/MyDrive/泰雅族 (Plan B)/IMG_8889.PNG',\n",
              " '/content/gdrive/MyDrive/泰雅族 (Plan B)/IMG_2249.JPG',\n",
              " '/content/gdrive/MyDrive/泰雅族 (Plan B)/IMG_2271.JPG',\n",
              " '/content/gdrive/MyDrive/泰雅族 (Plan B)/IMG_2273.JPG',\n",
              " '/content/gdrive/MyDrive/泰雅族 (Plan B)/IMG_2274.JPG',\n",
              " '/content/gdrive/MyDrive/泰雅族 (Plan B)/IMG_2262.JPG',\n",
              " '/content/gdrive/MyDrive/泰雅族 (Plan B)/IMG_2263.JPG',\n",
              " '/content/gdrive/MyDrive/泰雅族 (Plan B)/IMG_2272.JPG',\n",
              " '/content/gdrive/MyDrive/泰雅族 (Plan B)/IMG_2261.JPG',\n",
              " '/content/gdrive/MyDrive/泰雅族 (Plan B)/IMG_2266.JPG',\n",
              " '/content/gdrive/MyDrive/泰雅族 (Plan B)/IMG_2268.JPG',\n",
              " '/content/gdrive/MyDrive/泰雅族 (Plan B)/IMG_2264.JPG',\n",
              " '/content/gdrive/MyDrive/泰雅族 (Plan B)/IMG_2270.JPG',\n",
              " '/content/gdrive/MyDrive/泰雅族 (Plan B)/IMG_2267.JPG',\n",
              " '/content/gdrive/MyDrive/泰雅族 (Plan B)/IMG_2265.JPG',\n",
              " '/content/gdrive/MyDrive/泰雅族 (Plan B)/IMG_9558.JPG',\n",
              " '/content/gdrive/MyDrive/泰雅族 (Plan B)/IMG_9557.JPG',\n",
              " '/content/gdrive/MyDrive/泰雅族 (Plan B)/IMG_9531.jpg',\n",
              " '/content/gdrive/MyDrive/泰雅族 (Plan B)/IMG_9533.jpg',\n",
              " '/content/gdrive/MyDrive/泰雅族 (Plan B)/IMG_9534.jpg',\n",
              " '/content/gdrive/MyDrive/泰雅族 (Plan B)/IMG_9537.jpg',\n",
              " '/content/gdrive/MyDrive/泰雅族 (Plan B)/IMG_9534 (1).jpg',\n",
              " '/content/gdrive/MyDrive/泰雅族 (Plan B)/IMG_9525.jpg',\n",
              " '/content/gdrive/MyDrive/泰雅族 (Plan B)/IMG_9536.jpg',\n",
              " '/content/gdrive/MyDrive/泰雅族 (Plan B)/IMG_9535.jpg',\n",
              " '/content/gdrive/MyDrive/泰雅族 (Plan B)/IMG_9534 (2).jpg',\n",
              " '/content/gdrive/MyDrive/泰雅族 (Plan B)/IMG_9532.jpg',\n",
              " '/content/gdrive/MyDrive/泰雅族 (Plan B)/IMG_9524.jpg',\n",
              " '/content/gdrive/MyDrive/泰雅族 (Plan B)/IMG_9535 (1).jpg',\n",
              " '/content/gdrive/MyDrive/泰雅族 (Plan B)/IMG_9510.jpg',\n",
              " '/content/gdrive/MyDrive/泰雅族 (Plan B)/IMG_9514(1).jpg',\n",
              " '/content/gdrive/MyDrive/泰雅族 (Plan B)/IMG_9506.jpg',\n",
              " '/content/gdrive/MyDrive/泰雅族 (Plan B)/IMG_9509(1).jpg',\n",
              " '/content/gdrive/MyDrive/泰雅族 (Plan B)/IMG_9502.jpg',\n",
              " '/content/gdrive/MyDrive/泰雅族 (Plan B)/IMG_9509.jpg',\n",
              " '/content/gdrive/MyDrive/泰雅族 (Plan B)/IMG_9513.jpg',\n",
              " '/content/gdrive/MyDrive/泰雅族 (Plan B)/IMG_9500.jpg',\n",
              " '/content/gdrive/MyDrive/泰雅族 (Plan B)/IMG_9499(1).jpg',\n",
              " '/content/gdrive/MyDrive/泰雅族 (Plan B)/IMG_9507(1).jpg',\n",
              " '/content/gdrive/MyDrive/泰雅族 (Plan B)/IMG_9499.jpg',\n",
              " '/content/gdrive/MyDrive/泰雅族 (Plan B)/IMG_9506-copy-0.jpg',\n",
              " '/content/gdrive/MyDrive/泰雅族 (Plan B)/IMG_9507.jpg',\n",
              " '/content/gdrive/MyDrive/泰雅族 (Plan B)/IMG_9515.jpg',\n",
              " '/content/gdrive/MyDrive/泰雅族 (Plan B)/IMG_9508.jpg',\n",
              " '/content/gdrive/MyDrive/泰雅族 (Plan B)/IMG_9517.jpg',\n",
              " '/content/gdrive/MyDrive/泰雅族 (Plan B)/IMG_9518.jpg',\n",
              " '/content/gdrive/MyDrive/泰雅族 (Plan B)/IMG_9500-copy-0.jpg',\n",
              " '/content/gdrive/MyDrive/泰雅族 (Plan B)/IMG_9520.jpg',\n",
              " '/content/gdrive/MyDrive/泰雅族 (Plan B)/IMG_9519.jpg',\n",
              " '/content/gdrive/MyDrive/泰雅族 (Plan B)/IMG_9514.jpg',\n",
              " '/content/gdrive/MyDrive/泰雅族 (Plan B)/IMG_9521.jpg',\n",
              " '/content/gdrive/MyDrive/泰雅族 (Plan B)/IMG_2250.jpg']"
            ]
          },
          "execution_count": 4,
          "metadata": {},
          "output_type": "execute_result"
        }
      ],
      "source": [
        "taiya_files"
      ]
    },
    {
      "cell_type": "code",
      "execution_count": null,
      "metadata": {
        "colab": {
          "base_uri": "https://localhost:8080/"
        },
        "id": "-JbtxrqL3gr8",
        "outputId": "40bd957c-58b4-4a28-cbcf-ec59ed329991"
      },
      "outputs": [
        {
          "name": "stderr",
          "output_type": "stream",
          "text": [
            "/usr/local/lib/python3.11/dist-packages/PIL/Image.py:1045: UserWarning: Palette images with Transparency expressed in bytes should be converted to RGBA images\n",
            "  warnings.warn(\n"
          ]
        }
      ],
      "source": [
        "#Create input(data) and output(target) dataset\n",
        "#Label tawu as 1, and taiya as 0\n",
        "\n",
        "data = []\n",
        "target = []\n",
        "\n",
        "for pa in range(len(tawu_files)):\n",
        "    img = load_img(tawu_files[pa], target_size = (224, 224))\n",
        "    x = np.array(img)\n",
        "    data.append(x)\n",
        "    target.append(1) #Tawu: Label 1\n",
        "\n",
        "for pe in range(len(taiya_files)):\n",
        "    img = load_img(taiya_files[pe], target_size = (224, 224))\n",
        "    x = np.array(img)\n",
        "    data.append(x)\n",
        "    target.append(0) #Taiya: Label 0"
      ]
    },
    {
      "cell_type": "code",
      "execution_count": null,
      "metadata": {
        "id": "35rpOV8tbZPv"
      },
      "outputs": [],
      "source": [
        "from sklearn.model_selection import train_test_split\n",
        "from tensorflow.keras.utils import to_categorical\n",
        "\n",
        "# Convert data and target to numpy arrays\n",
        "data = np.array(data)\n",
        "target = np.array(target)\n",
        "\n",
        "# Normalize the images\n",
        "data = data.astype('float32') / 255.0\n",
        "\n",
        "# One-hot encode the labels\n",
        "target = to_categorical(target, 2)\n",
        "\n",
        "# Split data into training and testing sets\n",
        "X_train, X_test, y_train, y_test = train_test_split(data, target, test_size=0.2, random_state=42)\n"
      ]
    },
    {
      "cell_type": "code",
      "execution_count": null,
      "metadata": {
        "colab": {
          "base_uri": "https://localhost:8080/"
        },
        "id": "gWQasJKhbbOF",
        "outputId": "04ddb244-dc6c-40c0-ad0b-3074245a2183"
      },
      "outputs": [
        {
          "name": "stderr",
          "output_type": "stream",
          "text": [
            "/usr/local/lib/python3.11/dist-packages/keras/src/layers/convolutional/base_conv.py:107: UserWarning: Do not pass an `input_shape`/`input_dim` argument to a layer. When using Sequential models, prefer using an `Input(shape)` object as the first layer in the model instead.\n",
            "  super().__init__(activity_regularizer=activity_regularizer, **kwargs)\n"
          ]
        },
        {
          "name": "stdout",
          "output_type": "stream",
          "text": [
            "Epoch 1/10\n",
            "\u001b[1m3/3\u001b[0m \u001b[32m━━━━━━━━━━━━━━━━━━━━\u001b[0m\u001b[37m\u001b[0m \u001b[1m10s\u001b[0m 2s/step - accuracy: 0.4719 - loss: 1.2345 - val_accuracy: 0.4000 - val_loss: 0.7678\n",
            "Epoch 2/10\n",
            "\u001b[1m3/3\u001b[0m \u001b[32m━━━━━━━━━━━━━━━━━━━━\u001b[0m\u001b[37m\u001b[0m \u001b[1m0s\u001b[0m 52ms/step - accuracy: 0.4027 - loss: 0.7499 - val_accuracy: 0.6000 - val_loss: 0.6734\n",
            "Epoch 3/10\n",
            "\u001b[1m3/3\u001b[0m \u001b[32m━━━━━━━━━━━━━━━━━━━━\u001b[0m\u001b[37m\u001b[0m \u001b[1m0s\u001b[0m 52ms/step - accuracy: 0.6431 - loss: 0.6500 - val_accuracy: 0.6000 - val_loss: 0.6833\n",
            "Epoch 4/10\n",
            "\u001b[1m3/3\u001b[0m \u001b[32m━━━━━━━━━━━━━━━━━━━━\u001b[0m\u001b[37m\u001b[0m \u001b[1m0s\u001b[0m 49ms/step - accuracy: 0.6548 - loss: 0.6423 - val_accuracy: 0.6000 - val_loss: 0.6615\n",
            "Epoch 5/10\n",
            "\u001b[1m3/3\u001b[0m \u001b[32m━━━━━━━━━━━━━━━━━━━━\u001b[0m\u001b[37m\u001b[0m \u001b[1m0s\u001b[0m 52ms/step - accuracy: 0.6197 - loss: 0.6453 - val_accuracy: 0.6000 - val_loss: 0.6574\n",
            "Epoch 6/10\n",
            "\u001b[1m3/3\u001b[0m \u001b[32m━━━━━━━━━━━━━━━━━━━━\u001b[0m\u001b[37m\u001b[0m \u001b[1m0s\u001b[0m 49ms/step - accuracy: 0.6939 - loss: 0.6072 - val_accuracy: 0.6000 - val_loss: 0.6510\n",
            "Epoch 7/10\n",
            "\u001b[1m3/3\u001b[0m \u001b[32m━━━━━━━━━━━━━━━━━━━━\u001b[0m\u001b[37m\u001b[0m \u001b[1m0s\u001b[0m 50ms/step - accuracy: 0.6431 - loss: 0.5779 - val_accuracy: 0.6000 - val_loss: 0.6362\n",
            "Epoch 8/10\n",
            "\u001b[1m3/3\u001b[0m \u001b[32m━━━━━━━━━━━━━━━━━━━━\u001b[0m\u001b[37m\u001b[0m \u001b[1m0s\u001b[0m 49ms/step - accuracy: 0.6236 - loss: 0.5420 - val_accuracy: 0.6000 - val_loss: 0.6476\n",
            "Epoch 9/10\n",
            "\u001b[1m3/3\u001b[0m \u001b[32m━━━━━━━━━━━━━━━━━━━━\u001b[0m\u001b[37m\u001b[0m \u001b[1m0s\u001b[0m 51ms/step - accuracy: 0.6494 - loss: 0.5041 - val_accuracy: 0.6000 - val_loss: 0.6213\n",
            "Epoch 10/10\n",
            "\u001b[1m3/3\u001b[0m \u001b[32m━━━━━━━━━━━━━━━━━━━━\u001b[0m\u001b[37m\u001b[0m \u001b[1m0s\u001b[0m 46ms/step - accuracy: 0.8065 - loss: 0.5018 - val_accuracy: 0.6000 - val_loss: 0.6040\n"
          ]
        }
      ],
      "source": [
        "from tensorflow.keras.models import Sequential\n",
        "from tensorflow.keras.layers import Conv2D, MaxPooling2D, Flatten, Dense\n",
        "from tensorflow.keras.optimizers import SGD\n",
        "\n",
        "# Define the model\n",
        "model = Sequential([\n",
        "    Conv2D(32, (3, 3), activation='relu', input_shape=(224, 224, 3)),\n",
        "    MaxPooling2D((2, 2)),\n",
        "    Conv2D(64, (3, 3), activation='relu'),\n",
        "    MaxPooling2D((2, 2)),\n",
        "    Flatten(),\n",
        "    Dense(128, activation='relu'),\n",
        "    Dense(2, activation='softmax')\n",
        "])\n",
        "\n",
        "# Compile the model\n",
        "model.compile(optimizer=SGD(learning_rate=0.01, momentum=0.9),\n",
        "              loss='categorical_crossentropy',\n",
        "              metrics=['accuracy'])\n",
        "\n",
        "# Train the model\n",
        "history = model.fit(X_train, y_train, epochs=10, batch_size=32, validation_data=(X_test, y_test))"
      ]
    },
    {
      "cell_type": "code",
      "execution_count": null,
      "metadata": {
        "colab": {
          "background_save": true,
          "base_uri": "https://localhost:8080/"
        },
        "id": "YIgCTVUkbfCr",
        "outputId": "e034a383-1b89-4105-d6bd-bcb44e16e722"
      },
      "outputs": [
        {
          "name": "stdout",
          "output_type": "stream",
          "text": [
            "Downloading data from https://storage.googleapis.com/tensorflow/keras-applications/resnet/resnet50v2_weights_tf_dim_ordering_tf_kernels_notop.h5\n",
            "\u001b[1m94668760/94668760\u001b[0m \u001b[32m━━━━━━━━━━━━━━━━━━━━\u001b[0m\u001b[37m\u001b[0m \u001b[1m5s\u001b[0m 0us/step\n",
            "Epoch 1/10\n",
            "\u001b[1m3/3\u001b[0m \u001b[32m━━━━━━━━━━━━━━━━━━━━\u001b[0m\u001b[37m\u001b[0m \u001b[1m29s\u001b[0m 8s/step - accuracy: 0.5875 - loss: 0.7534 - val_accuracy: 0.8500 - val_loss: 0.4771\n",
            "Epoch 2/10\n",
            "\u001b[1m3/3\u001b[0m \u001b[32m━━━━━━━━━━━━━━━━━━━━\u001b[0m\u001b[37m\u001b[0m \u001b[1m18s\u001b[0m 115ms/step - accuracy: 0.7737 - loss: 0.4827 - val_accuracy: 0.7500 - val_loss: 0.3613\n",
            "Epoch 3/10\n",
            "\u001b[1m3/3\u001b[0m \u001b[32m━━━━━━━━━━━━━━━━━━━━\u001b[0m\u001b[37m\u001b[0m \u001b[1m1s\u001b[0m 98ms/step - accuracy: 0.8537 - loss: 0.3204 - val_accuracy: 0.8500 - val_loss: 0.3258\n",
            "Epoch 4/10\n",
            "\u001b[1m3/3\u001b[0m \u001b[32m━━━━━━━━━━━━━━━━━━━━\u001b[0m\u001b[37m\u001b[0m \u001b[1m0s\u001b[0m 90ms/step - accuracy: 0.9293 - loss: 0.2339 - val_accuracy: 0.9000 - val_loss: 0.2779\n",
            "Epoch 5/10\n",
            "\u001b[1m3/3\u001b[0m \u001b[32m━━━━━━━━━━━━━━━━━━━━\u001b[0m\u001b[37m\u001b[0m \u001b[1m0s\u001b[0m 100ms/step - accuracy: 0.9717 - loss: 0.1398 - val_accuracy: 0.9500 - val_loss: 0.2442\n",
            "Epoch 6/10\n",
            "\u001b[1m3/3\u001b[0m \u001b[32m━━━━━━━━━━━━━━━━━━━━\u001b[0m\u001b[37m\u001b[0m \u001b[1m0s\u001b[0m 101ms/step - accuracy: 0.9898 - loss: 0.1013 - val_accuracy: 0.9500 - val_loss: 0.2277\n",
            "Epoch 7/10\n",
            "\u001b[1m3/3\u001b[0m \u001b[32m━━━━━━━━━━━━━━━━━━━━\u001b[0m\u001b[37m\u001b[0m \u001b[1m0s\u001b[0m 96ms/step - accuracy: 0.9795 - loss: 0.0789 - val_accuracy: 0.9500 - val_loss: 0.2194\n",
            "Epoch 8/10\n",
            "\u001b[1m3/3\u001b[0m \u001b[32m━━━━━━━━━━━━━━━━━━━━\u001b[0m\u001b[37m\u001b[0m \u001b[1m0s\u001b[0m 101ms/step - accuracy: 0.9820 - loss: 0.0873 - val_accuracy: 0.9500 - val_loss: 0.2156\n",
            "Epoch 9/10\n",
            "\u001b[1m3/3\u001b[0m \u001b[32m━━━━━━━━━━━━━━━━━━━━\u001b[0m\u001b[37m\u001b[0m \u001b[1m1s\u001b[0m 94ms/step - accuracy: 0.9898 - loss: 0.0567 - val_accuracy: 0.9500 - val_loss: 0.2151\n",
            "Epoch 10/10\n",
            "\u001b[1m3/3\u001b[0m \u001b[32m━━━━━━━━━━━━━━━━━━━━\u001b[0m\u001b[37m\u001b[0m \u001b[1m1s\u001b[0m 92ms/step - accuracy: 0.9820 - loss: 0.0581 - val_accuracy: 0.9500 - val_loss: 0.2169\n",
            "Epoch 1/10\n",
            "\u001b[1m3/3\u001b[0m \u001b[32m━━━━━━━━━━━━━━━━━━━━\u001b[0m\u001b[37m\u001b[0m \u001b[1m19s\u001b[0m 4s/step - accuracy: 0.9898 - loss: 0.2540 - val_accuracy: 0.9500 - val_loss: 0.2148\n",
            "Epoch 2/10\n",
            "\u001b[1m3/3\u001b[0m \u001b[32m━━━━━━━━━━━━━━━━━━━━\u001b[0m\u001b[37m\u001b[0m \u001b[1m9s\u001b[0m 125ms/step - accuracy: 0.9591 - loss: 0.2509 - val_accuracy: 0.9500 - val_loss: 0.2142\n",
            "Epoch 3/10\n",
            "\u001b[1m3/3\u001b[0m \u001b[32m━━━━━━━━━━━━━━━━━━━━\u001b[0m\u001b[37m\u001b[0m \u001b[1m0s\u001b[0m 89ms/step - accuracy: 0.9898 - loss: 0.2349 - val_accuracy: 0.9500 - val_loss: 0.2143\n",
            "Epoch 4/10\n",
            "\u001b[1m3/3\u001b[0m \u001b[32m━━━━━━━━━━━━━━━━━━━━\u001b[0m\u001b[37m\u001b[0m \u001b[1m0s\u001b[0m 88ms/step - accuracy: 0.9820 - loss: 0.2200 - val_accuracy: 0.9500 - val_loss: 0.2144\n",
            "Epoch 5/10\n",
            "\u001b[1m3/3\u001b[0m \u001b[32m━━━━━━━━━━━━━━━━━━━━\u001b[0m\u001b[37m\u001b[0m \u001b[1m0s\u001b[0m 99ms/step - accuracy: 1.0000 - loss: 0.2316 - val_accuracy: 0.9500 - val_loss: 0.2149\n",
            "Epoch 6/10\n",
            "\u001b[1m3/3\u001b[0m \u001b[32m━━━━━━━━━━━━━━━━━━━━\u001b[0m\u001b[37m\u001b[0m \u001b[1m0s\u001b[0m 100ms/step - accuracy: 0.9937 - loss: 0.1979 - val_accuracy: 0.9500 - val_loss: 0.2151\n",
            "Epoch 7/10\n",
            "\u001b[1m3/3\u001b[0m \u001b[32m━━━━━━━━━━━━━━━━━━━━\u001b[0m\u001b[37m\u001b[0m \u001b[1m0s\u001b[0m 91ms/step - accuracy: 0.9898 - loss: 0.1823 - val_accuracy: 0.9500 - val_loss: 0.2160\n",
            "Epoch 8/10\n",
            "\u001b[1m3/3\u001b[0m \u001b[32m━━━━━━━━━━━━━━━━━━━━\u001b[0m\u001b[37m\u001b[0m \u001b[1m0s\u001b[0m 90ms/step - accuracy: 0.9898 - loss: 0.1881 - val_accuracy: 0.9500 - val_loss: 0.2171\n",
            "Epoch 9/10\n",
            "\u001b[1m3/3\u001b[0m \u001b[32m━━━━━━━━━━━━━━━━━━━━\u001b[0m\u001b[37m\u001b[0m \u001b[1m0s\u001b[0m 100ms/step - accuracy: 1.0000 - loss: 0.1830 - val_accuracy: 0.9500 - val_loss: 0.2176\n",
            "Epoch 10/10\n",
            "\u001b[1m3/3\u001b[0m \u001b[32m━━━━━━━━━━━━━━━━━━━━\u001b[0m\u001b[37m\u001b[0m \u001b[1m0s\u001b[0m 100ms/step - accuracy: 1.0000 - loss: 0.1798 - val_accuracy: 0.9500 - val_loss: 0.2185\n"
          ]
        }
      ],
      "source": [
        "from tensorflow.keras.applications import ResNet50V2\n",
        "from tensorflow.keras.layers import GlobalAveragePooling2D\n",
        "from tensorflow.keras.models import Model\n",
        "\n",
        "# Load the ResNet50V2 model pre-trained on ImageNet, excluding the top layers\n",
        "base_model = ResNet50V2(weights='imagenet', include_top=False, input_shape=(224, 224, 3))\n",
        "\n",
        "# Add custom top layers\n",
        "x = base_model.output\n",
        "x = GlobalAveragePooling2D()(x)\n",
        "x = Dense(128, activation='relu')(x)\n",
        "predictions = Dense(2, activation='softmax')(x)\n",
        "\n",
        "# Define the final model\n",
        "model = Model(inputs=base_model.input, outputs=predictions)\n",
        "\n",
        "# Freeze the layers of the base model\n",
        "for layer in base_model.layers:\n",
        "    layer.trainable = False\n",
        "\n",
        "# Compile the model\n",
        "model.compile(optimizer=SGD(learning_rate=0.001, momentum=0.9),\n",
        "              loss='categorical_crossentropy',\n",
        "              metrics=['accuracy'])\n",
        "\n",
        "# Train the model\n",
        "history = model.fit(X_train, y_train, epochs=10, batch_size=32, validation_data=(X_test, y_test))\n",
        "\n",
        "# Unfreeze some layers of the base model for fine-tuning\n",
        "for layer in base_model.layers[-10:]:\n",
        "    layer.trainable = True\n",
        "\n",
        "# Re-compile the model with a lower learning rate\n",
        "model.compile(optimizer=SGD(learning_rate=0.0001, momentum=0.9),\n",
        "              loss='categorical_crossentropy',\n",
        "              metrics=['accuracy'])\n",
        "\n",
        "# Fine-tune the model\n",
        "history_fine = model.fit(X_train, y_train, epochs=10, batch_size=32, validation_data=(X_test, y_test))\n"
      ]
    },
    {
      "cell_type": "code",
      "execution_count": null,
      "metadata": {
        "colab": {
          "background_save": true
        },
        "id": "zN0nK1i9cxGP",
        "outputId": "dd7fce2f-2329-43ab-ca88-cb99b8454b7d"
      },
      "outputs": [
        {
          "name": "stdout",
          "output_type": "stream",
          "text": [
            "1/1 - 0s - 57ms/step - accuracy: 0.9500 - loss: 0.2185\n",
            "Test accuracy: 0.949999988079071\n"
          ]
        }
      ],
      "source": [
        "test_loss, test_acc = model.evaluate(X_test, y_test, verbose=2)\n",
        "print(f'Test accuracy: {test_acc}')"
      ]
    },
    {
      "cell_type": "code",
      "execution_count": null,
      "metadata": {
        "colab": {
          "background_save": true
        },
        "id": "craYC8Ic61cL",
        "outputId": "4a5303be-a6be-4c85-bb09-dbac2965f4c0"
      },
      "outputs": [
        {
          "name": "stdout",
          "output_type": "stream",
          "text": [
            "Collecting gradio==3.43.1\n",
            "  Downloading gradio-3.43.1-py3-none-any.whl.metadata (17 kB)\n",
            "Collecting aiofiles<24.0,>=22.0 (from gradio==3.43.1)\n",
            "  Downloading aiofiles-23.2.1-py3-none-any.whl.metadata (9.7 kB)\n",
            "Requirement already satisfied: altair<6.0,>=4.2.0 in /usr/local/lib/python3.11/dist-packages (from gradio==3.43.1) (5.5.0)\n",
            "Collecting fastapi (from gradio==3.43.1)\n",
            "  Downloading fastapi-0.115.6-py3-none-any.whl.metadata (27 kB)\n",
            "Collecting ffmpy (from gradio==3.43.1)\n",
            "  Downloading ffmpy-0.5.0-py3-none-any.whl.metadata (3.0 kB)\n",
            "Collecting gradio-client==0.5.0 (from gradio==3.43.1)\n",
            "  Downloading gradio_client-0.5.0-py3-none-any.whl.metadata (7.1 kB)\n",
            "Requirement already satisfied: httpx in /usr/local/lib/python3.11/dist-packages (from gradio==3.43.1) (0.28.1)\n",
            "Requirement already satisfied: huggingface-hub>=0.14.0 in /usr/local/lib/python3.11/dist-packages (from gradio==3.43.1) (0.27.1)\n",
            "Requirement already satisfied: importlib-resources<7.0,>=1.3 in /usr/local/lib/python3.11/dist-packages (from gradio==3.43.1) (6.5.2)\n",
            "Requirement already satisfied: jinja2<4.0 in /usr/local/lib/python3.11/dist-packages (from gradio==3.43.1) (3.1.5)\n",
            "Collecting markupsafe~=2.0 (from gradio==3.43.1)\n",
            "  Downloading MarkupSafe-2.1.5-cp311-cp311-manylinux_2_17_x86_64.manylinux2014_x86_64.whl.metadata (3.0 kB)\n",
            "Requirement already satisfied: matplotlib~=3.0 in /usr/local/lib/python3.11/dist-packages (from gradio==3.43.1) (3.10.0)\n",
            "Requirement already satisfied: numpy~=1.0 in /usr/local/lib/python3.11/dist-packages (from gradio==3.43.1) (1.26.4)\n",
            "Requirement already satisfied: orjson~=3.0 in /usr/local/lib/python3.11/dist-packages (from gradio==3.43.1) (3.10.14)\n",
            "Requirement already satisfied: packaging in /usr/local/lib/python3.11/dist-packages (from gradio==3.43.1) (24.2)\n",
            "Requirement already satisfied: pandas<3.0,>=1.0 in /usr/local/lib/python3.11/dist-packages (from gradio==3.43.1) (2.2.2)\n",
            "Collecting pillow<11.0,>=8.0 (from gradio==3.43.1)\n",
            "  Downloading pillow-10.4.0-cp311-cp311-manylinux_2_28_x86_64.whl.metadata (9.2 kB)\n",
            "Requirement already satisfied: pydantic!=1.8,!=1.8.1,!=2.0.0,!=2.0.1,<3.0.0,>=1.7.4 in /usr/local/lib/python3.11/dist-packages (from gradio==3.43.1) (2.10.5)\n",
            "Collecting pydub (from gradio==3.43.1)\n",
            "  Downloading pydub-0.25.1-py2.py3-none-any.whl.metadata (1.4 kB)\n",
            "Collecting python-multipart (from gradio==3.43.1)\n",
            "  Downloading python_multipart-0.0.20-py3-none-any.whl.metadata (1.8 kB)\n",
            "Requirement already satisfied: pyyaml<7.0,>=5.0 in /usr/local/lib/python3.11/dist-packages (from gradio==3.43.1) (6.0.2)\n",
            "Requirement already satisfied: requests~=2.0 in /usr/local/lib/python3.11/dist-packages (from gradio==3.43.1) (2.32.3)\n",
            "Collecting semantic-version~=2.0 (from gradio==3.43.1)\n",
            "  Downloading semantic_version-2.10.0-py2.py3-none-any.whl.metadata (9.7 kB)\n",
            "Requirement already satisfied: typing-extensions~=4.0 in /usr/local/lib/python3.11/dist-packages (from gradio==3.43.1) (4.12.2)\n",
            "Collecting uvicorn>=0.14.0 (from gradio==3.43.1)\n",
            "  Downloading uvicorn-0.34.0-py3-none-any.whl.metadata (6.5 kB)\n",
            "Collecting websockets<12.0,>=10.0 (from gradio==3.43.1)\n",
            "  Downloading websockets-11.0.3-cp311-cp311-manylinux_2_5_x86_64.manylinux1_x86_64.manylinux_2_17_x86_64.manylinux2014_x86_64.whl.metadata (6.6 kB)\n",
            "Requirement already satisfied: fsspec in /usr/local/lib/python3.11/dist-packages (from gradio-client==0.5.0->gradio==3.43.1) (2024.10.0)\n",
            "Requirement already satisfied: jsonschema>=3.0 in /usr/local/lib/python3.11/dist-packages (from altair<6.0,>=4.2.0->gradio==3.43.1) (4.23.0)\n",
            "Requirement already satisfied: narwhals>=1.14.2 in /usr/local/lib/python3.11/dist-packages (from altair<6.0,>=4.2.0->gradio==3.43.1) (1.21.1)\n",
            "Requirement already satisfied: filelock in /usr/local/lib/python3.11/dist-packages (from huggingface-hub>=0.14.0->gradio==3.43.1) (3.16.1)\n",
            "Requirement already satisfied: tqdm>=4.42.1 in /usr/local/lib/python3.11/dist-packages (from huggingface-hub>=0.14.0->gradio==3.43.1) (4.67.1)\n",
            "Requirement already satisfied: contourpy>=1.0.1 in /usr/local/lib/python3.11/dist-packages (from matplotlib~=3.0->gradio==3.43.1) (1.3.1)\n",
            "Requirement already satisfied: cycler>=0.10 in /usr/local/lib/python3.11/dist-packages (from matplotlib~=3.0->gradio==3.43.1) (0.12.1)\n",
            "Requirement already satisfied: fonttools>=4.22.0 in /usr/local/lib/python3.11/dist-packages (from matplotlib~=3.0->gradio==3.43.1) (4.55.3)\n",
            "Requirement already satisfied: kiwisolver>=1.3.1 in /usr/local/lib/python3.11/dist-packages (from matplotlib~=3.0->gradio==3.43.1) (1.4.8)\n",
            "Requirement already satisfied: pyparsing>=2.3.1 in /usr/local/lib/python3.11/dist-packages (from matplotlib~=3.0->gradio==3.43.1) (3.2.1)\n",
            "Requirement already satisfied: python-dateutil>=2.7 in /usr/local/lib/python3.11/dist-packages (from matplotlib~=3.0->gradio==3.43.1) (2.8.2)\n",
            "Requirement already satisfied: pytz>=2020.1 in /usr/local/lib/python3.11/dist-packages (from pandas<3.0,>=1.0->gradio==3.43.1) (2024.2)\n",
            "Requirement already satisfied: tzdata>=2022.7 in /usr/local/lib/python3.11/dist-packages (from pandas<3.0,>=1.0->gradio==3.43.1) (2024.2)\n",
            "Requirement already satisfied: annotated-types>=0.6.0 in /usr/local/lib/python3.11/dist-packages (from pydantic!=1.8,!=1.8.1,!=2.0.0,!=2.0.1,<3.0.0,>=1.7.4->gradio==3.43.1) (0.7.0)\n",
            "Requirement already satisfied: pydantic-core==2.27.2 in /usr/local/lib/python3.11/dist-packages (from pydantic!=1.8,!=1.8.1,!=2.0.0,!=2.0.1,<3.0.0,>=1.7.4->gradio==3.43.1) (2.27.2)\n",
            "Requirement already satisfied: charset-normalizer<4,>=2 in /usr/local/lib/python3.11/dist-packages (from requests~=2.0->gradio==3.43.1) (3.4.1)\n",
            "Requirement already satisfied: idna<4,>=2.5 in /usr/local/lib/python3.11/dist-packages (from requests~=2.0->gradio==3.43.1) (3.10)\n",
            "Requirement already satisfied: urllib3<3,>=1.21.1 in /usr/local/lib/python3.11/dist-packages (from requests~=2.0->gradio==3.43.1) (2.3.0)\n",
            "Requirement already satisfied: certifi>=2017.4.17 in /usr/local/lib/python3.11/dist-packages (from requests~=2.0->gradio==3.43.1) (2024.12.14)\n",
            "Requirement already satisfied: click>=7.0 in /usr/local/lib/python3.11/dist-packages (from uvicorn>=0.14.0->gradio==3.43.1) (8.1.8)\n",
            "Requirement already satisfied: h11>=0.8 in /usr/local/lib/python3.11/dist-packages (from uvicorn>=0.14.0->gradio==3.43.1) (0.14.0)\n",
            "Collecting starlette<0.42.0,>=0.40.0 (from fastapi->gradio==3.43.1)\n",
            "  Downloading starlette-0.41.3-py3-none-any.whl.metadata (6.0 kB)\n",
            "Requirement already satisfied: anyio in /usr/local/lib/python3.11/dist-packages (from httpx->gradio==3.43.1) (3.7.1)\n",
            "Requirement already satisfied: httpcore==1.* in /usr/local/lib/python3.11/dist-packages (from httpx->gradio==3.43.1) (1.0.7)\n",
            "Requirement already satisfied: attrs>=22.2.0 in /usr/local/lib/python3.11/dist-packages (from jsonschema>=3.0->altair<6.0,>=4.2.0->gradio==3.43.1) (24.3.0)\n",
            "Requirement already satisfied: jsonschema-specifications>=2023.03.6 in /usr/local/lib/python3.11/dist-packages (from jsonschema>=3.0->altair<6.0,>=4.2.0->gradio==3.43.1) (2024.10.1)\n",
            "Requirement already satisfied: referencing>=0.28.4 in /usr/local/lib/python3.11/dist-packages (from jsonschema>=3.0->altair<6.0,>=4.2.0->gradio==3.43.1) (0.35.1)\n",
            "Requirement already satisfied: rpds-py>=0.7.1 in /usr/local/lib/python3.11/dist-packages (from jsonschema>=3.0->altair<6.0,>=4.2.0->gradio==3.43.1) (0.22.3)\n",
            "Requirement already satisfied: six>=1.5 in /usr/local/lib/python3.11/dist-packages (from python-dateutil>=2.7->matplotlib~=3.0->gradio==3.43.1) (1.17.0)\n",
            "Requirement already satisfied: sniffio>=1.1 in /usr/local/lib/python3.11/dist-packages (from anyio->httpx->gradio==3.43.1) (1.3.1)\n",
            "Downloading gradio-3.43.1-py3-none-any.whl (20.1 MB)\n",
            "\u001b[2K   \u001b[90m━━━━━━━━━━━━━━━━━━━━━━━━━━━━━━━━━━━━━━━━\u001b[0m \u001b[32m20.1/20.1 MB\u001b[0m \u001b[31m72.3 MB/s\u001b[0m eta \u001b[36m0:00:00\u001b[0m\n",
            "\u001b[?25hDownloading gradio_client-0.5.0-py3-none-any.whl (298 kB)\n",
            "\u001b[2K   \u001b[90m━━━━━━━━━━━━━━━━━━━━━━━━━━━━━━━━━━━━━━━━\u001b[0m \u001b[32m298.2/298.2 kB\u001b[0m \u001b[31m25.8 MB/s\u001b[0m eta \u001b[36m0:00:00\u001b[0m\n",
            "\u001b[?25hDownloading aiofiles-23.2.1-py3-none-any.whl (15 kB)\n",
            "Downloading MarkupSafe-2.1.5-cp311-cp311-manylinux_2_17_x86_64.manylinux2014_x86_64.whl (28 kB)\n",
            "Downloading pillow-10.4.0-cp311-cp311-manylinux_2_28_x86_64.whl (4.5 MB)\n",
            "\u001b[2K   \u001b[90m━━━━━━━━━━━━━━━━━━━━━━━━━━━━━━━━━━━━━━━━\u001b[0m \u001b[32m4.5/4.5 MB\u001b[0m \u001b[31m110.0 MB/s\u001b[0m eta \u001b[36m0:00:00\u001b[0m\n",
            "\u001b[?25hDownloading semantic_version-2.10.0-py2.py3-none-any.whl (15 kB)\n",
            "Downloading uvicorn-0.34.0-py3-none-any.whl (62 kB)\n",
            "\u001b[2K   \u001b[90m━━━━━━━━━━━━━━━━━━━━━━━━━━━━━━━━━━━━━━━━\u001b[0m \u001b[32m62.3/62.3 kB\u001b[0m \u001b[31m6.5 MB/s\u001b[0m eta \u001b[36m0:00:00\u001b[0m\n",
            "\u001b[?25hDownloading websockets-11.0.3-cp311-cp311-manylinux_2_5_x86_64.manylinux1_x86_64.manylinux_2_17_x86_64.manylinux2014_x86_64.whl (130 kB)\n",
            "\u001b[2K   \u001b[90m━━━━━━━━━━━━━━━━━━━━━━━━━━━━━━━━━━━━━━━━\u001b[0m \u001b[32m130.6/130.6 kB\u001b[0m \u001b[31m14.0 MB/s\u001b[0m eta \u001b[36m0:00:00\u001b[0m\n",
            "\u001b[?25hDownloading fastapi-0.115.6-py3-none-any.whl (94 kB)\n",
            "\u001b[2K   \u001b[90m━━━━━━━━━━━━━━━━━━━━━━━━━━━━━━━━━━━━━━━━\u001b[0m \u001b[32m94.8/94.8 kB\u001b[0m \u001b[31m9.9 MB/s\u001b[0m eta \u001b[36m0:00:00\u001b[0m\n",
            "\u001b[?25hDownloading ffmpy-0.5.0-py3-none-any.whl (6.0 kB)\n",
            "Downloading pydub-0.25.1-py2.py3-none-any.whl (32 kB)\n",
            "Downloading python_multipart-0.0.20-py3-none-any.whl (24 kB)\n",
            "Downloading starlette-0.41.3-py3-none-any.whl (73 kB)\n",
            "\u001b[2K   \u001b[90m━━━━━━━━━━━━━━━━━━━━━━━━━━━━━━━━━━━━━━━━\u001b[0m \u001b[32m73.2/73.2 kB\u001b[0m \u001b[31m8.0 MB/s\u001b[0m eta \u001b[36m0:00:00\u001b[0m\n",
            "\u001b[?25hInstalling collected packages: pydub, websockets, uvicorn, semantic-version, python-multipart, pillow, markupsafe, ffmpy, aiofiles, starlette, gradio-client, fastapi, gradio\n",
            "  Attempting uninstall: websockets\n",
            "    Found existing installation: websockets 14.1\n",
            "    Uninstalling websockets-14.1:\n",
            "      Successfully uninstalled websockets-14.1\n",
            "  Attempting uninstall: pillow\n",
            "    Found existing installation: pillow 11.1.0\n",
            "    Uninstalling pillow-11.1.0:\n",
            "      Successfully uninstalled pillow-11.1.0\n",
            "  Attempting uninstall: markupsafe\n",
            "    Found existing installation: MarkupSafe 3.0.2\n",
            "    Uninstalling MarkupSafe-3.0.2:\n",
            "      Successfully uninstalled MarkupSafe-3.0.2\n",
            "\u001b[31mERROR: pip's dependency resolver does not currently take into account all the packages that are installed. This behaviour is the source of the following dependency conflicts.\n",
            "google-genai 0.3.0 requires websockets<15.0dev,>=13.0, but you have websockets 11.0.3 which is incompatible.\u001b[0m\u001b[31m\n",
            "\u001b[0mSuccessfully installed aiofiles-23.2.1 fastapi-0.115.6 ffmpy-0.5.0 gradio-3.43.1 gradio-client-0.5.0 markupsafe-2.1.5 pillow-10.4.0 pydub-0.25.1 python-multipart-0.0.20 semantic-version-2.10.0 starlette-0.41.3 uvicorn-0.34.0 websockets-11.0.3\n"
          ]
        },
        {
          "data": {
            "application/vnd.colab-display-data+json": {
              "id": "ea6bf355e99543e380ede48357fa19e0",
              "pip_warning": {
                "packages": [
                  "PIL"
                ]
              }
            }
          },
          "metadata": {},
          "output_type": "display_data"
        }
      ],
      "source": [
        "!pip install gradio==3.43.1"
      ]
    },
    {
      "cell_type": "code",
      "execution_count": null,
      "metadata": {
        "colab": {
          "background_save": true
        },
        "id": "A38H8WfJ610_"
      },
      "outputs": [],
      "source": [
        "import gradio as gr"
      ]
    },
    {
      "cell_type": "code",
      "execution_count": null,
      "metadata": {
        "colab": {
          "background_save": true
        },
        "id": "KaEVOCMT63jD"
      },
      "outputs": [],
      "source": [
        "from tensorflow.keras.applications.resnet_v2 import preprocess_input"
      ]
    },
    {
      "cell_type": "code",
      "execution_count": null,
      "metadata": {
        "colab": {
          "background_save": true
        },
        "id": "XkH_cpWf66cX"
      },
      "outputs": [],
      "source": [
        "labels = ['Tawu', 'Taiya']"
      ]
    },
    {
      "cell_type": "code",
      "execution_count": null,
      "metadata": {
        "colab": {
          "background_save": true
        },
        "id": "iWNhmNpJ6-KL"
      },
      "outputs": [],
      "source": [
        "def classify_image(inp):\n",
        "  inp = inp.reshape((-1, 224, 224, 3))\n",
        "  inp = preprocess_input(inp)\n",
        "  p = model.predict(inp).flatten()[0]\n",
        "  return {'Tawu': float(1-p), 'Taiya': float(p)}"
      ]
    },
    {
      "cell_type": "code",
      "execution_count": null,
      "metadata": {
        "colab": {
          "background_save": true
        },
        "id": "UhkTwzm776x6",
        "outputId": "a25825c6-2c2c-48f0-c526-dd04bf48f3e4"
      },
      "outputs": [
        {
          "name": "stderr",
          "output_type": "stream",
          "text": [
            "<ipython-input-15-a7b78634685d>:1: GradioDeprecationWarning: Usage of gradio.inputs is deprecated, and will not be supported in the future, please import your component from gradio.components\n",
            "  image = gr.inputs.Image(shape=(224, 224), label=\"Image of Tawu or Taiya\")\n",
            "<ipython-input-15-a7b78634685d>:1: GradioDeprecationWarning: `optional` parameter is deprecated, and it has no effect\n",
            "  image = gr.inputs.Image(shape=(224, 224), label=\"Image of Tawu or Taiya\")\n",
            "<ipython-input-15-a7b78634685d>:2: GradioDeprecationWarning: Usage of gradio.outputs is deprecated, and will not be supported in the future, please import your components from gradio.components\n",
            "  label = gr.outputs.Label(label=\"AI Result\")\n",
            "<ipython-input-15-a7b78634685d>:2: GradioUnusedKwargWarning: You have unused kwarg parameters in Label, please remove them: {'type': 'auto'}\n",
            "  label = gr.outputs.Label(label=\"AI Result\")\n"
          ]
        }
      ],
      "source": [
        "image = gr.inputs.Image(shape=(224, 224), label=\"Image of Tawu or Taiya\")\n",
        "label = gr.outputs.Label(label=\"AI Result\")"
      ]
    },
    {
      "cell_type": "code",
      "execution_count": null,
      "metadata": {
        "colab": {
          "background_save": true
        },
        "id": "3E_BeHwN8KWZ"
      },
      "outputs": [],
      "source": [
        "gr.Interface(fn=classify_image, inputs=image, outputs=label,\n",
        "             title=\"AI Tawu and Taiya Classifier\",\n",
        "             description=\"This classifier uses transfer learning to identify tawu or taiya\"\n",
        "             ).launch(debug=True)"
      ]
    },
    {
      "cell_type": "code",
      "execution_count": null,
      "metadata": {
        "id": "Gmy0umWceIte"
      },
      "outputs": [],
      "source": [
        "model.save('/content/gdrive/MyDrive/「tribes_final_model_ipynb」的副本.py')"
      ]
    },
    {
      "cell_type": "code",
      "execution_count": null,
      "metadata": {
        "id": "FBuSiq6zibjx"
      },
      "outputs": [],
      "source": [
        "import tensorflow as tf\n",
        "from tensorflow import keras"
      ]
    },
    {
      "cell_type": "code",
      "execution_count": null,
      "metadata": {
        "id": "So6iaBFfiwms"
      },
      "outputs": [],
      "source": [
        "new_model = tf.keras.models.load_model('/content/gdrive/MyDrive/Final Code/AI_final_model')"
      ]
    },
    {
      "cell_type": "code",
      "execution_count": null,
      "metadata": {
        "id": "LtjFAtGVjIE-"
      },
      "outputs": [],
      "source": [
        "new_model.summary()"
      ]
    }
  ],
  "metadata": {
    "accelerator": "GPU",
    "colab": {
      "gpuType": "T4",
      "provenance": []
    },
    "kernelspec": {
      "display_name": "Python 3",
      "name": "python3"
    },
    "language_info": {
      "name": "python"
    }
  },
  "nbformat": 4,
  "nbformat_minor": 0
}